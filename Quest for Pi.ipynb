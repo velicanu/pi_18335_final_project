{
 "metadata": {
  "language": "Julia",
  "name": ""
 },
 "nbformat": 3,
 "nbformat_minor": 0,
 "worksheets": [
  {
   "cells": [
    {
     "cell_type": "code",
     "collapsed": false,
     "input": [
      "peakflops()"
     ],
     "language": "python",
     "metadata": {},
     "outputs": [
      {
       "metadata": {},
       "output_type": "pyout",
       "prompt_number": 1,
       "text": [
        "2.1444984040750103e10"
       ]
      }
     ],
     "prompt_number": 1
    },
    {
     "cell_type": "code",
     "collapsed": false,
     "input": [
      "using PyPlot"
     ],
     "language": "python",
     "metadata": {},
     "outputs": [
      {
       "ename": "LoadError",
       "evalue": "PyError (PyImport_ImportModule) <type 'exceptions.ImportError'>\nImportError('No module named matplotlib',)\n\nat C:\\Users\\Dragos\\AppData\\Roaming\\Julia\\packages\\PyPlot\\src\\PyPlot.jl:32\nat In[2]:1",
       "output_type": "pyerr",
       "traceback": [
        "PyError (PyImport_ImportModule) <type 'exceptions.ImportError'>\nImportError('No module named matplotlib',)\n\nat C:\\Users\\Dragos\\AppData\\Roaming\\Julia\\packages\\PyPlot\\src\\PyPlot.jl:32\nat In[2]:1"
       ]
      }
     ],
     "prompt_number": 2
    },
    {
     "cell_type": "code",
     "collapsed": false,
     "input": [
      "mod(3,2)"
     ],
     "language": "python",
     "metadata": {},
     "outputs": [
      {
       "metadata": {},
       "output_type": "pyout",
       "prompt_number": 148,
       "text": [
        "1"
       ]
      }
     ],
     "prompt_number": 148
    },
    {
     "cell_type": "code",
     "collapsed": false,
     "input": [
      "function agm(N)\n",
      "    \n",
      "    set_bigfloat_precision(4*N)\n",
      "    # now = time()\n",
      "    a = BigFloat(\"1.0\")\n",
      "    two = BigFloat(\"2.0\")\n",
      "    println(\"computing the square root of 2\")\n",
      "    @time sqtwo = sqrt(two)\n",
      "    b = BigFloat(\"1.0\")/sqtwo\n",
      "    s = BigFloat(\"0.5\")\n",
      "    p = BigFloat(\"0.0\")\n",
      "    c = BigFloat(\"0.0\")\n",
      "    \n",
      "    M = int(floor(log2(N))+1)\n",
      "    \n",
      "    for i=1:M\n",
      "        println(string(i)*\"/\"*string(M))\n",
      "        println(\"computing the arithmetic mean\")\n",
      "        @time a1 = (a+b)/2.0\n",
      "        println(\"computing the geometric mean\")\n",
      "        @time b1 = sqrt(a*b)\n",
      "        println(\"computing c\")\n",
      "        @time c  = ((a1^2.0)-(b1^2.0))\n",
      "        println(\"computing s\")\n",
      "        @time s1 = (s-2.0^(i)*c)\n",
      "        println(\"computing pi\")\n",
      "        @time p  =  2*a1^2/s1\n",
      "        \n",
      "        a=a1\n",
      "        b=b1\n",
      "        s=s1\n",
      "    end\n",
      "    # println(p)\n",
      "    # p\n",
      "    \n",
      "    \n",
      "    # println(p)\n",
      "    return p\n",
      "end\n"
     ],
     "language": "python",
     "metadata": {},
     "outputs": [
      {
       "metadata": {},
       "output_type": "pyout",
       "prompt_number": 2,
       "text": [
        "# methods for generic function agm\n",
        "agm(N) at In[2]:3"
       ]
      }
     ],
     "prompt_number": 2
    },
    {
     "cell_type": "code",
     "collapsed": false,
     "input": [
      "\n",
      "@everywhere function parallel_chud(N,z)\n",
      "    np = nprocs()\n",
      "    set_bigfloat_precision(int(N*log2(10))+1)\n",
      "    k = BigInt(13591409)\n",
      "    invpi = BigFloat(0)\n",
      "    M = N/14 + 1\n",
      "    for i = 0:M\n",
      "        if(mod(i,np)!=z)\n",
      "            continue # only add i mod nprocs = z terms for parallelization\n",
      "        end\n",
      "        a = factorial(BigInt(6*i))\n",
      "        b = k + BigInt(545140134)*i\n",
      "        c = factorial(BigInt(3*i))\n",
      "        d = (factorial(BigInt(i)))^3\n",
      "        e = BigInt(640320)^(3*i)\n",
      "        invpi += (((-1)^i)*a*b)/(c*d*e)\n",
      "    end\n",
      "    return invpi\n",
      "    # elapsed = time() - now\n",
      "    # println(p)\n",
      "    # println(\"Elapsed: \"*string(elapsed)) \n",
      "end"
     ],
     "language": "python",
     "metadata": {},
     "outputs": [],
     "prompt_number": 2
    },
    {
     "cell_type": "code",
     "collapsed": false,
     "input": [
      "sqrt(BigFloat(BigInt(640320)^3))"
     ],
     "language": "python",
     "metadata": {},
     "outputs": [
      {
       "metadata": {},
       "output_type": "pyout",
       "prompt_number": 92,
       "text": [
        "5.1238404799600074981255466992791529927985060803010899361005608614623126188949113059562159893746802321614884600992896493670751283417520073831764258604703e+08 with 500 bits of precision"
       ]
      }
     ],
     "prompt_number": 92
    },
    {
     "cell_type": "code",
     "collapsed": false,
     "input": [
      "@time mypi=agm(10000000)\n",
      "println(\"done\")"
     ],
     "language": "python",
     "metadata": {},
     "outputs": [
      {
       "output_type": "stream",
       "stream": "stdout",
       "text": [
        "computing the square root of 2"
       ]
      },
      {
       "output_type": "stream",
       "stream": "stdout",
       "text": [
        "\n"
       ]
      },
      {
       "output_type": "stream",
       "stream": "stdout",
       "text": [
        "elapsed time: 3.742448478 seconds (230165724 bytes allocated)\n"
       ]
      },
      {
       "output_type": "stream",
       "stream": "stdout",
       "text": [
        "1/24\n",
        "computing the arithmetic mean\n",
        "elapsed time: 0.022228274 seconds (10000060 bytes allocated)\n",
        "computing the geometric mean\n"
       ]
      },
      {
       "output_type": "stream",
       "stream": "stdout",
       "text": [
        "elapsed time: 3.61775894 seconds (235243880 bytes allocated)\n",
        "computing c\n"
       ]
      },
      {
       "output_type": "stream",
       "stream": "stdout",
       "text": [
        "elapsed time: 1.721768116 seconds (116789520 bytes allocated)\n",
        "computing s\n",
        "elapsed time: 0.016925128 seconds (10000060 bytes allocated)\n",
        "computing pi\n"
       ]
      },
      {
       "output_type": "stream",
       "stream": "stdout",
       "text": [
        "elapsed time: 4.581258211 seconds (264770068 bytes allocated)\n",
        "2/24\n",
        "computing the arithmetic mean\n",
        "elapsed time: 0.061843888 seconds (10000060 bytes allocated)\n",
        "computing the geometric mean\n"
       ]
      },
      {
       "output_type": "stream",
       "stream": "stdout",
       "text": [
        "elapsed time: 5.035969609 seconds (287018700 bytes allocated)\n",
        "computing c\n"
       ]
      },
      {
       "output_type": "stream",
       "stream": "stdout",
       "text": [
        "elapsed time: 1.76645522 seconds (116789520 bytes allocated)\n",
        "computing s\n",
        "elapsed time: 0.011148042 seconds (10000060 bytes allocated)\n",
        "computing pi\n"
       ]
      },
      {
       "output_type": "stream",
       "stream": "stdout",
       "text": [
        "elapsed time: 4.632481145 seconds (264770068 bytes allocated)\n",
        "3/24\n",
        "computing the arithmetic mean\n",
        "elapsed time: 0.059968653 seconds (10000060 bytes allocated)\n",
        "computing the geometric mean\n"
       ]
      },
      {
       "output_type": "stream",
       "stream": "stdout",
       "text": [
        "elapsed time: 5.109734945 seconds (287018700 bytes allocated)\n",
        "computing c\n"
       ]
      },
      {
       "output_type": "stream",
       "stream": "stdout",
       "text": [
        "elapsed time: 1.851536475 seconds (116789520 bytes allocated)\n",
        "computing s\n",
        "elapsed time: 0.014945062 seconds (10000060 bytes allocated)\n",
        "computing pi\n"
       ]
      },
      {
       "output_type": "stream",
       "stream": "stdout",
       "text": [
        "elapsed time: 4.845693778 seconds (264770068 bytes allocated)\n",
        "4/24\n",
        "computing the arithmetic mean\n",
        "elapsed time: 0.058738901 seconds (10000060 bytes allocated)\n",
        "computing the geometric mean\n"
       ]
      },
      {
       "output_type": "stream",
       "stream": "stdout",
       "text": [
        "elapsed time: 5.107704297 seconds (287096832 bytes allocated)\n",
        "computing c\n"
       ]
      },
      {
       "output_type": "stream",
       "stream": "stdout",
       "text": [
        "elapsed time: 1.70655621 seconds (116789520 bytes allocated)\n",
        "computing s\n",
        "elapsed time: 0.009553579 seconds (10000060 bytes allocated)\n",
        "computing pi\n"
       ]
      },
      {
       "output_type": "stream",
       "stream": "stdout",
       "text": [
        "elapsed time: 5.257802969 seconds (264770068 bytes allocated)\n",
        "5/24\n",
        "computing the arithmetic mean\n",
        "elapsed time: 0.06320193 seconds (10000060 bytes allocated)\n",
        "computing the geometric mean\n"
       ]
      },
      {
       "output_type": "stream",
       "stream": "stdout",
       "text": [
        "elapsed time: 5.787646177 seconds (287096832 bytes allocated)\n",
        "computing c\n"
       ]
      },
      {
       "output_type": "stream",
       "stream": "stdout",
       "text": [
        "elapsed time: 2.006666686 seconds (116789520 bytes allocated)\n",
        "computing s\n",
        "elapsed time: 0.011367602 seconds (10000060 bytes allocated)\n",
        "computing pi\n"
       ]
      },
      {
       "output_type": "stream",
       "stream": "stdout",
       "text": [
        "elapsed time: 5.457748941 seconds (264770068 bytes allocated)\n",
        "6/24\n",
        "computing the arithmetic mean\n",
        "elapsed time: 0.071363012 seconds (10000060 bytes allocated)\n",
        "computing the geometric mean\n"
       ]
      },
      {
       "output_type": "stream",
       "stream": "stdout",
       "text": [
        "elapsed time: 5.629825907 seconds (286706196 bytes allocated)\n",
        "computing c\n"
       ]
      },
      {
       "output_type": "stream",
       "stream": "stdout",
       "text": [
        "elapsed time: 1.974928817 seconds (116789520 bytes allocated)\n",
        "computing s\n",
        "elapsed time: 0.014080387 seconds (10000060 bytes allocated)\n",
        "computing pi\n"
       ]
      },
      {
       "output_type": "stream",
       "stream": "stdout",
       "text": [
        "elapsed time: 5.458972096 seconds (264770068 bytes allocated)\n",
        "7/24\n",
        "computing the arithmetic mean\n",
        "elapsed time: 0.068378618 seconds (10000060 bytes allocated)\n",
        "computing the geometric mean\n"
       ]
      },
      {
       "output_type": "stream",
       "stream": "stdout",
       "text": [
        "elapsed time: 5.522259431 seconds (285846840 bytes allocated)\n",
        "computing c\n"
       ]
      },
      {
       "output_type": "stream",
       "stream": "stdout",
       "text": [
        "elapsed time: 2.006599609 seconds (116789520 bytes allocated)\n",
        "computing s\n",
        "elapsed time: 0.011088662 seconds (10000060 bytes allocated)\n",
        "computing pi\n"
       ]
      },
      {
       "output_type": "stream",
       "stream": "stdout",
       "text": [
        "elapsed time: 5.225423651 seconds (264770068 bytes allocated)\n",
        "8/24\n",
        "computing the arithmetic mean\n",
        "elapsed time: 0.072306861 seconds (10000060 bytes allocated)\n",
        "computing the geometric mean\n"
       ]
      },
      {
       "output_type": "stream",
       "stream": "stdout",
       "text": [
        "elapsed time: 5.671704191 seconds (287096832 bytes allocated)\n",
        "computing c\n"
       ]
      },
      {
       "output_type": "stream",
       "stream": "stdout",
       "text": [
        "elapsed time: 1.946623624 seconds (116789520 bytes allocated)\n",
        "computing s\n",
        "elapsed time: 0.011333513 seconds (10000060 bytes allocated)\n",
        "computing pi\n"
       ]
      },
      {
       "output_type": "stream",
       "stream": "stdout",
       "text": [
        "elapsed time: 5.451310978 seconds (264770068 bytes allocated)\n",
        "9/24\n",
        "computing the arithmetic mean\n",
        "elapsed time: 0.065370766 seconds (10000060 bytes allocated)\n",
        "computing the geometric mean\n"
       ]
      },
      {
       "output_type": "stream",
       "stream": "stdout",
       "text": [
        "elapsed time: 5.64275095 seconds (287096832 bytes allocated)\n",
        "computing c\n"
       ]
      },
      {
       "output_type": "stream",
       "stream": "stdout",
       "text": [
        "elapsed time: 1.955669175 seconds (116789520 bytes allocated)\n",
        "computing s\n",
        "elapsed time: 0.009803562 seconds (10000060 bytes allocated)\n",
        "computing pi\n"
       ]
      },
      {
       "output_type": "stream",
       "stream": "stdout",
       "text": [
        "elapsed time: 5.188532185 seconds (264770068 bytes allocated)\n",
        "10/24\n",
        "computing the arithmetic mean\n",
        "elapsed time: 0.062394069 seconds (10000060 bytes allocated)\n",
        "computing the geometric mean\n"
       ]
      },
      {
       "output_type": "stream",
       "stream": "stdout",
       "text": [
        "elapsed time: 5.605609136 seconds (287018700 bytes allocated)\n",
        "computing c\n"
       ]
      },
      {
       "output_type": "stream",
       "stream": "stdout",
       "text": [
        "elapsed time: 1.994911281 seconds (116789520 bytes allocated)\n",
        "computing s\n",
        "elapsed time: 0.011460337 seconds (10000060 bytes allocated)\n",
        "computing pi\n"
       ]
      },
      {
       "output_type": "stream",
       "stream": "stdout",
       "text": [
        "elapsed time: 5.385668238 seconds (264770068 bytes allocated)\n",
        "11/24\n",
        "computing the arithmetic mean\n",
        "elapsed time: 0.068846694 seconds (10000060 bytes allocated)\n",
        "computing the geometric mean\n"
       ]
      },
      {
       "output_type": "stream",
       "stream": "stdout",
       "text": [
        "elapsed time: 5.484291428 seconds (284596840 bytes allocated)\n",
        "computing c\n"
       ]
      },
      {
       "output_type": "stream",
       "stream": "stdout",
       "text": [
        "elapsed time: 1.979677017 seconds (116789520 bytes allocated)\n",
        "computing s\n",
        "elapsed time: 0.011361737 seconds (10000060 bytes allocated)\n",
        "computing pi\n"
       ]
      },
      {
       "output_type": "stream",
       "stream": "stdout",
       "text": [
        "elapsed time: 5.465722354 seconds (264770068 bytes allocated)\n",
        "12/24\n",
        "computing the arithmetic mean\n",
        "elapsed time: 0.068497012 seconds (10000060 bytes allocated)\n",
        "computing the geometric mean\n"
       ]
      },
      {
       "output_type": "stream",
       "stream": "stdout",
       "text": [
        "elapsed time: 5.676888576 seconds (285221848 bytes allocated)\n",
        "computing c\n"
       ]
      },
      {
       "output_type": "stream",
       "stream": "stdout",
       "text": [
        "elapsed time: 2.01260945 seconds (116789520 bytes allocated)\n",
        "computing s\n",
        "elapsed time: 0.011164171 seconds (10000060 bytes allocated)\n",
        "computing pi\n"
       ]
      },
      {
       "output_type": "stream",
       "stream": "stdout",
       "text": [
        "elapsed time: 5.194458088 seconds (264770068 bytes allocated)\n",
        "13/24\n",
        "computing the arithmetic mean\n",
        "elapsed time: 0.068273421 seconds (10000060 bytes allocated)\n",
        "computing the geometric mean\n"
       ]
      },
      {
       "output_type": "stream",
       "stream": "stdout",
       "text": [
        "elapsed time: 5.546896259 seconds (284284332 bytes allocated)\n",
        "computing c\n"
       ]
      },
      {
       "output_type": "stream",
       "stream": "stdout",
       "text": [
        "elapsed time: 1.955510829 seconds (116789520 bytes allocated)\n",
        "computing s\n",
        "elapsed time: 0.012042774 seconds (10000060 bytes allocated)\n",
        "computing pi\n"
       ]
      },
      {
       "output_type": "stream",
       "stream": "stdout",
       "text": [
        "elapsed time: 5.117287932 seconds (264770068 bytes allocated)\n",
        "14/24\n",
        "computing the arithmetic mean\n",
        "elapsed time: 0.061203537 seconds (10000060 bytes allocated)\n",
        "computing the geometric mean\n"
       ]
      },
      {
       "output_type": "stream",
       "stream": "stdout",
       "text": [
        "elapsed time: 5.575086724 seconds (284596840 bytes allocated)\n",
        "computing c\n"
       ]
      },
      {
       "output_type": "stream",
       "stream": "stdout",
       "text": [
        "elapsed time: 1.943895444 seconds (116789520 bytes allocated)\n",
        "computing s\n",
        "elapsed time: 0.014464524 seconds (10000060 bytes allocated)\n",
        "computing pi\n"
       ]
      },
      {
       "output_type": "stream",
       "stream": "stdout",
       "text": [
        "elapsed time: 5.398632134 seconds (264770068 bytes allocated)\n",
        "15/24\n",
        "computing the arithmetic mean\n",
        "elapsed time: 0.065449206 seconds (10000060 bytes allocated)\n",
        "computing the geometric mean\n"
       ]
      },
      {
       "output_type": "stream",
       "stream": "stdout",
       "text": [
        "elapsed time: 5.616749114 seconds (283346848 bytes allocated)\n",
        "computing c\n"
       ]
      },
      {
       "output_type": "stream",
       "stream": "stdout",
       "text": [
        "elapsed time: 1.988746393 seconds (116789520 bytes allocated)\n",
        "computing s\n",
        "elapsed time: 0.012684958 seconds (10000060 bytes allocated)\n",
        "computing pi\n"
       ]
      },
      {
       "output_type": "stream",
       "stream": "stdout",
       "text": [
        "elapsed time: 5.269235817 seconds (264770068 bytes allocated)\n",
        "16/24\n",
        "computing the arithmetic mean\n",
        "elapsed time: 0.070974844 seconds (10000060 bytes allocated)\n",
        "computing the geometric mean\n"
       ]
      },
      {
       "output_type": "stream",
       "stream": "stdout",
       "text": [
        "elapsed time: 5.516266451 seconds (286471840 bytes allocated)\n",
        "computing c\n"
       ]
      },
      {
       "output_type": "stream",
       "stream": "stdout",
       "text": [
        "elapsed time: 1.992675002 seconds (116789520 bytes allocated)\n",
        "computing s\n",
        "elapsed time: 0.013188955 seconds (10000060 bytes allocated)\n",
        "computing pi\n"
       ]
      },
      {
       "output_type": "stream",
       "stream": "stdout",
       "text": [
        "elapsed time: 5.430821585 seconds (264770068 bytes allocated)\n",
        "17/24\n",
        "computing the arithmetic mean\n",
        "elapsed time: 0.064267104 seconds (10000060 bytes allocated)\n",
        "computing the geometric mean\n"
       ]
      },
      {
       "output_type": "stream",
       "stream": "stdout",
       "text": [
        "elapsed time: 5.54794494 seconds (287096832 bytes allocated)\n",
        "computing c\n"
       ]
      },
      {
       "output_type": "stream",
       "stream": "stdout",
       "text": [
        "elapsed time: 1.926247127 seconds (116789520 bytes allocated)\n",
        "computing s\n",
        "elapsed time: 0.010986031 seconds (10000060 bytes allocated)\n",
        "computing pi\n"
       ]
      },
      {
       "output_type": "stream",
       "stream": "stdout",
       "text": [
        "elapsed time: 5.216937445 seconds (264770068 bytes allocated)\n",
        "18/24\n",
        "computing the arithmetic mean\n",
        "elapsed time: 0.069701107 seconds (10000060 bytes allocated)\n",
        "computing the geometric mean\n"
       ]
      },
      {
       "output_type": "stream",
       "stream": "stdout",
       "text": [
        "elapsed time: 5.65228547 seconds (287096832 bytes allocated)\n",
        "computing c\n"
       ]
      },
      {
       "output_type": "stream",
       "stream": "stdout",
       "text": [
        "elapsed time: 1.894597595 seconds (116789520 bytes allocated)\n",
        "computing s\n",
        "elapsed time: 0.012058535 seconds (10000060 bytes allocated)\n",
        "computing pi\n"
       ]
      },
      {
       "output_type": "stream",
       "stream": "stdout",
       "text": [
        "elapsed time: 5.126867904 seconds (264770068 bytes allocated)\n",
        "19/24\n",
        "computing the arithmetic mean\n",
        "elapsed time: 0.072907992 seconds (10000060 bytes allocated)\n",
        "computing the geometric mean\n"
       ]
      },
      {
       "output_type": "stream",
       "stream": "stdout",
       "text": [
        "elapsed time: 5.83936981 seconds (287096832 bytes allocated)\n",
        "computing c\n"
       ]
      },
      {
       "output_type": "stream",
       "stream": "stdout",
       "text": [
        "elapsed time: 2.075594753 seconds (116789520 bytes allocated)\n",
        "computing s\n",
        "elapsed time: 0.011460704 seconds (10000060 bytes allocated)\n",
        "computing pi\n"
       ]
      },
      {
       "output_type": "stream",
       "stream": "stdout",
       "text": [
        "elapsed time: 5.175991279 seconds (264770068 bytes allocated)\n",
        "20/24\n",
        "computing the arithmetic mean\n",
        "elapsed time: 0.05888955 seconds (10000060 bytes allocated)\n",
        "computing the geometric mean\n"
       ]
      },
      {
       "output_type": "stream",
       "stream": "stdout",
       "text": [
        "elapsed time: 5.284146057 seconds (285846840 bytes allocated)\n",
        "computing c\n"
       ]
      },
      {
       "output_type": "stream",
       "stream": "stdout",
       "text": [
        "elapsed time: 1.868725149 seconds (116789520 bytes allocated)\n",
        "computing s\n",
        "elapsed time: 0.009298466 seconds (10000060 bytes allocated)\n",
        "computing pi\n"
       ]
      },
      {
       "output_type": "stream",
       "stream": "stdout",
       "text": [
        "elapsed time: 4.602270662 seconds (264770068 bytes allocated)\n",
        "21/24\n",
        "computing the arithmetic mean\n",
        "elapsed time: 0.060347292 seconds (10000060 bytes allocated)\n",
        "computing the geometric mean\n"
       ]
      },
      {
       "output_type": "stream",
       "stream": "stdout",
       "text": [
        "elapsed time: 4.765532997 seconds (284596840 bytes allocated)\n",
        "computing c\n"
       ]
      },
      {
       "output_type": "stream",
       "stream": "stdout",
       "text": [
        "elapsed time: 1.790428606 seconds (116789520 bytes allocated)\n",
        "computing s\n",
        "elapsed time: 0.008734722 seconds (10000060 bytes allocated)\n",
        "computing pi\n"
       ]
      },
      {
       "output_type": "stream",
       "stream": "stdout",
       "text": [
        "elapsed time: 4.543278112 seconds (264770068 bytes allocated)\n",
        "22/24\n",
        "computing the arithmetic mean\n",
        "elapsed time: 0.058983019 seconds (10000060 bytes allocated)\n",
        "computing the geometric mean\n"
       ]
      },
      {
       "output_type": "stream",
       "stream": "stdout",
       "text": [
        "elapsed time: 4.956011894 seconds (287096832 bytes allocated)\n",
        "computing c\n"
       ]
      },
      {
       "output_type": "stream",
       "stream": "stdout",
       "text": [
        "elapsed time: 1.864729095 seconds (116789520 bytes allocated)\n",
        "computing s\n",
        "elapsed time: 0.01118543 seconds (10000060 bytes allocated)\n",
        "computing pi\n"
       ]
      },
      {
       "output_type": "stream",
       "stream": "stdout",
       "text": [
        "elapsed time: 4.899927498 seconds (264770068 bytes allocated)\n",
        "23/24\n",
        "computing the arithmetic mean\n",
        "elapsed time: 0.066161765 seconds (10000060 bytes allocated)\n",
        "computing the geometric mean\n"
       ]
      },
      {
       "output_type": "stream",
       "stream": "stdout",
       "text": [
        "elapsed time: 5.397287287 seconds (287096832 bytes allocated)\n",
        "computing c\n"
       ]
      },
      {
       "output_type": "stream",
       "stream": "stdout",
       "text": [
        "elapsed time: 1.859804589 seconds (116789520 bytes allocated)\n",
        "computing s\n",
        "elapsed time: 0.006745493 seconds (10000060 bytes allocated)\n",
        "computing pi\n"
       ]
      },
      {
       "output_type": "stream",
       "stream": "stdout",
       "text": [
        "elapsed time: 5.09536059 seconds (264770068 bytes allocated)\n",
        "24/24\n",
        "computing the arithmetic mean\n",
        "elapsed time: 0.060956487 seconds (10000060 bytes allocated)\n",
        "computing the geometric mean\n"
       ]
      },
      {
       "output_type": "stream",
       "stream": "stdout",
       "text": [
        "elapsed time: 4.965759375 seconds (287096832 bytes allocated)\n",
        "computing c\n"
       ]
      },
      {
       "output_type": "stream",
       "stream": "stdout",
       "text": [
        "elapsed time: 1.761906786 seconds (116789520 bytes allocated)\n",
        "computing s\n",
        "elapsed time: 0.001587132 seconds (10000060 bytes allocated)\n",
        "computing pi\n"
       ]
      },
      {
       "output_type": "stream",
       "stream": "stdout",
       "text": [
        "elapsed time: 4.519726984 seconds (264770068 bytes allocated)\n",
        "elapsed time: 310.593551701 seconds (-80390240 bytes allocated)\n",
        "done\n"
       ]
      }
     ],
     "prompt_number": 4
    },
    {
     "cell_type": "code",
     "collapsed": false,
     "input": [],
     "language": "python",
     "metadata": {},
     "outputs": [],
     "prompt_number": 146
    },
    {
     "cell_type": "code",
     "collapsed": false,
     "input": [
      "BigInt(545140134)*BigInt(123456789123456)"
     ],
     "language": "python",
     "metadata": {},
     "outputs": [
      {
       "metadata": {},
       "output_type": "pyout",
       "prompt_number": 2,
       "text": [
        "67301250565970546383104"
       ]
      }
     ],
     "prompt_number": 2
    },
    {
     "cell_type": "code",
     "collapsed": false,
     "input": [
      "1+1"
     ],
     "language": "python",
     "metadata": {},
     "outputs": [
      {
       "metadata": {},
       "output_type": "pyout",
       "prompt_number": 1,
       "text": [
        "2"
       ]
      }
     ],
     "prompt_number": 1
    },
    {
     "cell_type": "code",
     "collapsed": false,
     "input": [],
     "language": "python",
     "metadata": {},
     "outputs": [
      {
       "metadata": {},
       "output_type": "pyout",
       "prompt_number": 47,
       "text": [
        "4"
       ]
      }
     ],
     "prompt_number": 47
    },
    {
     "cell_type": "code",
     "collapsed": false,
     "input": [
      "methods(time)"
     ],
     "language": "python",
     "metadata": {},
     "outputs": [
      {
       "metadata": {},
       "output_type": "pyout",
       "prompt_number": 92,
       "text": [
        "# methods for generic function time\n",
        "time(tm::TmStruct) at libc.jl:63\n",
        "time() at util.jl:8"
       ]
      }
     ],
     "prompt_number": 92
    },
    {
     "cell_type": "code",
     "collapsed": false,
     "input": [
      "addprocs(3)"
     ],
     "language": "python",
     "metadata": {},
     "outputs": [
      {
       "metadata": {},
       "output_type": "pyout",
       "prompt_number": 2,
       "text": [
        "3-element Array{Any,1}:\n",
        " 2\n",
        " 3\n",
        " 4"
       ]
      }
     ],
     "prompt_number": 2
    },
    {
     "cell_type": "code",
     "collapsed": false,
     "input": [
      "@everywhere function dudu_chud(splitting,index)\n",
      "\n",
      "    # set_bigfloat_precision(int(N*log2(10))+1)\n",
      "    # i_bigint_precision(1000)\n",
      "    k = BigInt(13591409)\n",
      "    invpi = BigFloat(0)\n",
      "    # now = time()\n",
      "    # M = N/14 + 1\n",
      "    istart = int(index*splitting)\n",
      "    iend = int((index+1)*splitting-1)\n",
      "    println(\"starts \"*string(istart)*\" to \"*string(iend))\n",
      "    \n",
      "    prev_d = factorial(BigInt(istart))\n",
      "    prev_c = factorial(BigInt(3*istart))\n",
      "    prev_a = factorial(BigInt(6*istart))\n",
      "    \n",
      "    \n",
      "    a = prev_a\n",
      "    c = prev_c\n",
      "    d = prev_d\n",
      "    \n",
      "    \n",
      "    for i = istart:iend\n",
      "        \n",
      "        d_cubed = (d)^3\n",
      "        \n",
      "        e = BigInt(640320)^(3*i)\n",
      "        b = k + BigInt(545140134)*i\n",
      "        invpi += (((-1)^i)*a*b)/(c*d_cubed*e)\n",
      "        \n",
      "        a = (prev_a) * (BigInt(6*(i-1) + 1))* (BigInt(6*(i-1) + 2))* (BigInt(6*(i-1) + 3))* (BigInt(6*(i-1) + 4))* (BigInt(6*(i-1) + 5))* (BigInt(6*(i-1) + 6))\n",
      "        c = (prev_c)* (BigInt(3*(i-1) + 1))* (BigInt(3*(i-1) + 2))* (BigInt(3*(i-1) + 3))\n",
      "        d = (prev_d)*BigInt(i)\n",
      "\n",
      "        prev_a = a\n",
      "        prev_c = c\n",
      "        prev_d = d\n",
      "    end\n",
      "    return invpi\n",
      "    # f = sqrt(BigFloat(BigInt(640320)^3))\n",
      "    # p = f/(12*invpi)\n",
      "    # return p\n",
      "end"
     ],
     "language": "python",
     "metadata": {},
     "outputs": [],
     "prompt_number": 3
    },
    {
     "cell_type": "code",
     "collapsed": false,
     "input": [
      "function pduduchud(N)\n",
      "    M = N/14 + 1\n",
      "    set_bigfloat_precision(int(N*log2(10))+1)\n",
      "    split = 50\n",
      "    times = int(M/split)+1\n",
      "    x = int(linspace(0,times,times+1))\n",
      "    x = shuffle(x) # for load  balancing\n",
      "    invpi = @parallel (+) for i=1:times+1\n",
      "        dudu_chud(split,x[i])\n",
      "    end\n",
      "    f = sqrt(BigFloat(BigInt(640320)^3))\n",
      "    mypi = f/(12*invpi)\n",
      "    return mypi\n",
      "    # println(\"done\")\n",
      "end"
     ],
     "language": "python",
     "metadata": {},
     "outputs": [
      {
       "metadata": {},
       "output_type": "pyout",
       "prompt_number": 5,
       "text": [
        "# methods for generic function pduduchud\n",
        "pduduchud(N) at In[5]:2"
       ]
      }
     ],
     "prompt_number": 5
    },
    {
     "cell_type": "code",
     "collapsed": false,
     "input": [
      "@time mypi = pduduchud(100000)\n",
      "println(\"done\")\n"
     ],
     "language": "python",
     "metadata": {},
     "outputs": [
      {
       "output_type": "stream",
       "stream": "stdout",
       "text": [
        "\tFrom worker 4:\t"
       ]
      },
      {
       "output_type": "stream",
       "stream": "stdout",
       "text": [
        "starts 6450 to 6499\n",
        "\tFrom worker 3:\tstarts 4300 to 4349\n",
        "\tFrom worker 2:\tstarts 6200 to 6249\n"
       ]
      },
      {
       "output_type": "stream",
       "stream": "stdout",
       "text": [
        "\tFrom worker 3:\t"
       ]
      },
      {
       "output_type": "stream",
       "stream": "stdout",
       "text": [
        "starts 250 to 299\n",
        "\tFrom worker 3:\tstarts 2500 to 2549\n"
       ]
      },
      {
       "output_type": "stream",
       "stream": "stdout",
       "text": [
        "\tFrom worker 3:\t"
       ]
      },
      {
       "output_type": "stream",
       "stream": "stdout",
       "text": [
        "starts 350 to 399\n",
        "\tFrom worker 3:\tstarts 800 to 849\n",
        "\tFrom worker 3:\tstarts 4600 to 4649\n"
       ]
      },
      {
       "output_type": "stream",
       "stream": "stdout",
       "text": [
        "\tFrom worker 4:\t"
       ]
      },
      {
       "output_type": "stream",
       "stream": "stdout",
       "text": [
        "starts 7150 to 7199\n",
        "\tFrom worker 2:\tstarts 2050 to 2099\n"
       ]
      },
      {
       "output_type": "stream",
       "stream": "stdout",
       "text": [
        "\tFrom worker 2:\t"
       ]
      },
      {
       "output_type": "stream",
       "stream": "stdout",
       "text": [
        "starts 3700 to 3749\n"
       ]
      },
      {
       "output_type": "stream",
       "stream": "stdout",
       "text": [
        "\tFrom worker 3:\tstarts 5400 to 5449\n"
       ]
      },
      {
       "output_type": "stream",
       "stream": "stdout",
       "text": [
        "\tFrom worker 2:\t"
       ]
      },
      {
       "output_type": "stream",
       "stream": "stdout",
       "text": [
        "starts 4000 to 4049\n"
       ]
      },
      {
       "output_type": "stream",
       "stream": "stdout",
       "text": [
        "\tFrom worker 3:\t"
       ]
      },
      {
       "output_type": "stream",
       "stream": "stdout",
       "text": [
        "starts 2750 to 2799\n",
        "\tFrom worker 2:\tstarts 2450 to 2499\n"
       ]
      },
      {
       "output_type": "stream",
       "stream": "stdout",
       "text": [
        "\tFrom worker 4:\t"
       ]
      },
      {
       "output_type": "stream",
       "stream": "stdout",
       "text": [
        "starts 5750 to 5799\n",
        "\tFrom worker 3:\tstarts 4550 to 4599\n",
        "\tFrom worker 2:\tstarts 2900 to 2949\n"
       ]
      },
      {
       "output_type": "stream",
       "stream": "stdout",
       "text": [
        "\tFrom worker 2:\t"
       ]
      },
      {
       "output_type": "stream",
       "stream": "stdout",
       "text": [
        "starts 6800 to 6849\n"
       ]
      },
      {
       "output_type": "stream",
       "stream": "stdout",
       "text": [
        "\tFrom worker 3:\t"
       ]
      },
      {
       "output_type": "stream",
       "stream": "stdout",
       "text": [
        "starts 5550 to 5599\n"
       ]
      },
      {
       "output_type": "stream",
       "stream": "stdout",
       "text": [
        "\tFrom worker 4:\tstarts 2650 to 2699\n"
       ]
      },
      {
       "output_type": "stream",
       "stream": "stdout",
       "text": [
        "\tFrom worker 4:\t"
       ]
      },
      {
       "output_type": "stream",
       "stream": "stdout",
       "text": [
        "starts 2000 to 2049\n"
       ]
      },
      {
       "output_type": "stream",
       "stream": "stdout",
       "text": [
        "\tFrom worker 4:\t"
       ]
      },
      {
       "output_type": "stream",
       "stream": "stdout",
       "text": [
        "starts 2350 to 2399\n"
       ]
      },
      {
       "output_type": "stream",
       "stream": "stdout",
       "text": [
        "\tFrom worker 3:\tstarts 4150 to 4199\n"
       ]
      },
      {
       "output_type": "stream",
       "stream": "stdout",
       "text": [
        "\tFrom worker 4:\tstarts 3900 to 3949\n"
       ]
      },
      {
       "output_type": "stream",
       "stream": "stdout",
       "text": [
        "\tFrom worker 2:\t"
       ]
      },
      {
       "output_type": "stream",
       "stream": "stdout",
       "text": [
        "starts 6850 to 6899\n"
       ]
      },
      {
       "output_type": "stream",
       "stream": "stdout",
       "text": [
        "\tFrom worker 3:\t"
       ]
      },
      {
       "output_type": "stream",
       "stream": "stdout",
       "text": [
        "starts 4350 to 4399\n"
       ]
      },
      {
       "output_type": "stream",
       "stream": "stdout",
       "text": [
        "\tFrom worker 4:\tstarts 6100 to 6149\n"
       ]
      },
      {
       "output_type": "stream",
       "stream": "stdout",
       "text": [
        "\tFrom worker 3:\t"
       ]
      },
      {
       "output_type": "stream",
       "stream": "stdout",
       "text": [
        "starts 1800 to 1849\n"
       ]
      },
      {
       "output_type": "stream",
       "stream": "stdout",
       "text": [
        "\tFrom worker 3:\tstarts 4700 to 4749\n"
       ]
      },
      {
       "output_type": "stream",
       "stream": "stdout",
       "text": [
        "\tFrom worker 2:\t"
       ]
      },
      {
       "output_type": "stream",
       "stream": "stdout",
       "text": [
        "starts 5200 to 5249\n"
       ]
      },
      {
       "output_type": "stream",
       "stream": "stdout",
       "text": [
        "\tFrom worker 4:\tstarts 700 to 749\n"
       ]
      },
      {
       "output_type": "stream",
       "stream": "stdout",
       "text": [
        "\tFrom worker 4:\tstarts 5050 to 5099\n",
        "\tFrom worker 3:\tstarts 1450 to 1499\n"
       ]
      },
      {
       "output_type": "stream",
       "stream": "stdout",
       "text": [
        "\tFrom worker 3:\t"
       ]
      },
      {
       "output_type": "stream",
       "stream": "stdout",
       "text": [
        "starts 1850 to 1899\n"
       ]
      },
      {
       "output_type": "stream",
       "stream": "stdout",
       "text": [
        "\tFrom worker 3:\t"
       ]
      },
      {
       "output_type": "stream",
       "stream": "stdout",
       "text": [
        "starts 300 to 349\n",
        "\tFrom worker 3:\tstarts 4250 to 4299\n"
       ]
      },
      {
       "output_type": "stream",
       "stream": "stdout",
       "text": [
        "\tFrom worker 2:\tstarts 2250 to 2299\n"
       ]
      },
      {
       "output_type": "stream",
       "stream": "stdout",
       "text": [
        "\tFrom worker 4:\t"
       ]
      },
      {
       "output_type": "stream",
       "stream": "stdout",
       "text": [
        "starts 1100 to 1149\n",
        "\tFrom worker 2:\tstarts 0 to 49\n",
        "\tFrom worker 2:\tstarts 3650 to 3699\n"
       ]
      },
      {
       "output_type": "stream",
       "stream": "stdout",
       "text": [
        "\tFrom worker 4:\tstarts 3100 to 3149\n"
       ]
      },
      {
       "output_type": "stream",
       "stream": "stdout",
       "text": [
        "\tFrom worker 3:\tstarts 3200 to 3249\n"
       ]
      },
      {
       "output_type": "stream",
       "stream": "stdout",
       "text": [
        "\tFrom worker 4:\t"
       ]
      },
      {
       "output_type": "stream",
       "stream": "stdout",
       "text": [
        "starts 1300 to 1349\n",
        "\tFrom worker 2:\tstarts 400 to 449\n"
       ]
      },
      {
       "output_type": "stream",
       "stream": "stdout",
       "text": [
        "\tFrom worker 4:\tstarts 6750 to 6799\n",
        "\tFrom worker 2:\tstarts 6900 to 6949\n"
       ]
      },
      {
       "output_type": "stream",
       "stream": "stdout",
       "text": [
        "\tFrom worker 3:\tstarts 3400 to 3449\n"
       ]
      },
      {
       "output_type": "stream",
       "stream": "stdout",
       "text": [
        "\tFrom worker 3:\t"
       ]
      },
      {
       "output_type": "stream",
       "stream": "stdout",
       "text": [
        "starts 3000 to 3049\n"
       ]
      },
      {
       "output_type": "stream",
       "stream": "stdout",
       "text": [
        "\tFrom worker 3:\t"
       ]
      },
      {
       "output_type": "stream",
       "stream": "stdout",
       "text": [
        "starts 5000 to 5049\n"
       ]
      },
      {
       "output_type": "stream",
       "stream": "stdout",
       "text": [
        "\tFrom worker 4:\t"
       ]
      },
      {
       "output_type": "stream",
       "stream": "stdout",
       "text": [
        "starts 3800 to 3849\n",
        "\tFrom worker 2:\tstarts 3600 to 3649\n"
       ]
      },
      {
       "output_type": "stream",
       "stream": "stdout",
       "text": [
        "\tFrom worker 3:\tstarts 1250 to 1299\n"
       ]
      },
      {
       "output_type": "stream",
       "stream": "stdout",
       "text": [
        "\tFrom worker 3:\tstarts 4900 to 4949\n"
       ]
      },
      {
       "output_type": "stream",
       "stream": "stdout",
       "text": [
        "\tFrom worker 4:\t"
       ]
      },
      {
       "output_type": "stream",
       "stream": "stdout",
       "text": [
        "starts 3300 to 3349\n",
        "\tFrom worker 2:\tstarts 6050 to 6099\n"
       ]
      },
      {
       "output_type": "stream",
       "stream": "stdout",
       "text": [
        "\tFrom worker 4:\t"
       ]
      },
      {
       "output_type": "stream",
       "stream": "stdout",
       "text": [
        "starts 1400 to 1449\n",
        "\tFrom worker 3:\tstarts 850 to 899\n"
       ]
      },
      {
       "output_type": "stream",
       "stream": "stdout",
       "text": [
        "\tFrom worker 3:\tstarts 1350 to 1399\n",
        "\tFrom worker 4:\tstarts 1050 to 1099\n"
       ]
      },
      {
       "output_type": "stream",
       "stream": "stdout",
       "text": [
        "\tFrom worker 3:\tstarts 1900 to 1949\n",
        "\tFrom worker 4:\tstarts 950 to 999\n"
       ]
      },
      {
       "output_type": "stream",
       "stream": "stdout",
       "text": [
        "\tFrom worker 4:\tstarts 7200 to 7249\n"
       ]
      },
      {
       "output_type": "stream",
       "stream": "stdout",
       "text": [
        "\tFrom worker 3:\tstarts 3550 to 3599\n"
       ]
      },
      {
       "output_type": "stream",
       "stream": "stdout",
       "text": [
        "\tFrom worker 2:\t"
       ]
      },
      {
       "output_type": "stream",
       "stream": "stdout",
       "text": [
        "starts 2600 to 2649\n",
        "\tFrom worker 3:\tstarts 50 to 99\n",
        "\tFrom worker 3:\tstarts 2400 to 2449\n"
       ]
      },
      {
       "output_type": "stream",
       "stream": "stdout",
       "text": [
        "\tFrom worker 3:\t"
       ]
      },
      {
       "output_type": "stream",
       "stream": "stdout",
       "text": [
        "starts 3250 to 3299\n",
        "\tFrom worker 2:\tstarts 650 to 699\n",
        "\tFrom worker 2:\tstarts 5900 to 5949\n"
       ]
      },
      {
       "output_type": "stream",
       "stream": "stdout",
       "text": [
        "\tFrom worker 3:\t"
       ]
      },
      {
       "output_type": "stream",
       "stream": "stdout",
       "text": [
        "starts 5950 to 5999\n"
       ]
      },
      {
       "output_type": "stream",
       "stream": "stdout",
       "text": [
        "\tFrom worker 4:\t"
       ]
      },
      {
       "output_type": "stream",
       "stream": "stdout",
       "text": [
        "starts 5350 to 5399\n"
       ]
      },
      {
       "output_type": "stream",
       "stream": "stdout",
       "text": [
        "\tFrom worker 2:\t"
       ]
      },
      {
       "output_type": "stream",
       "stream": "stdout",
       "text": [
        "starts 5150 to 5199\n"
       ]
      },
      {
       "output_type": "stream",
       "stream": "stdout",
       "text": [
        "\tFrom worker 4:\t"
       ]
      },
      {
       "output_type": "stream",
       "stream": "stdout",
       "text": [
        "starts 1200 to 1249\n"
       ]
      },
      {
       "output_type": "stream",
       "stream": "stdout",
       "text": [
        "\tFrom worker 3:\tstarts 5650 to 5699\n",
        "\tFrom worker 4:\tstarts 4200 to 4249\n"
       ]
      },
      {
       "output_type": "stream",
       "stream": "stdout",
       "text": [
        "\tFrom worker 2:\t"
       ]
      },
      {
       "output_type": "stream",
       "stream": "stdout",
       "text": [
        "starts 1000 to 1049\n",
        "\tFrom worker 2:\tstarts 6500 to 6549\n"
       ]
      },
      {
       "output_type": "stream",
       "stream": "stdout",
       "text": [
        "\tFrom worker 4:\t"
       ]
      },
      {
       "output_type": "stream",
       "stream": "stdout",
       "text": [
        "starts 4050 to 4099\n"
       ]
      },
      {
       "output_type": "stream",
       "stream": "stdout",
       "text": [
        "\tFrom worker 3:\t"
       ]
      },
      {
       "output_type": "stream",
       "stream": "stdout",
       "text": [
        "starts 2300 to 2349\n"
       ]
      },
      {
       "output_type": "stream",
       "stream": "stdout",
       "text": [
        "\tFrom worker 4:\t"
       ]
      },
      {
       "output_type": "stream",
       "stream": "stdout",
       "text": [
        "starts 900 to 949\n",
        "\tFrom worker 3:\tstarts 4450 to 4499\n"
       ]
      },
      {
       "output_type": "stream",
       "stream": "stdout",
       "text": [
        "\tFrom worker 4:\tstarts 3050 to 3099\n"
       ]
      },
      {
       "output_type": "stream",
       "stream": "stdout",
       "text": [
        "\tFrom worker 4:\t"
       ]
      },
      {
       "output_type": "stream",
       "stream": "stdout",
       "text": [
        "starts 7050 to 7099\n"
       ]
      },
      {
       "output_type": "stream",
       "stream": "stdout",
       "text": [
        "\tFrom worker 2:\t"
       ]
      },
      {
       "output_type": "stream",
       "stream": "stdout",
       "text": [
        "starts 6600 to 6649\n",
        "\tFrom worker 3:\tstarts 150 to 199\n"
       ]
      },
      {
       "output_type": "stream",
       "stream": "stdout",
       "text": [
        "\tFrom worker 3:\tstarts 7100 to 7149\n"
       ]
      },
      {
       "output_type": "stream",
       "stream": "stdout",
       "text": [
        "\tFrom worker 4:\t"
       ]
      },
      {
       "output_type": "stream",
       "stream": "stdout",
       "text": [
        "starts 3450 to 3499\n",
        "\tFrom worker 2:\tstarts 5800 to 5849\n"
       ]
      },
      {
       "output_type": "stream",
       "stream": "stdout",
       "text": [
        "\tFrom worker 3:\tstarts 200 to 249\n",
        "\tFrom worker 3:\tstarts 6550 to 6599\n"
       ]
      },
      {
       "output_type": "stream",
       "stream": "stdout",
       "text": [
        "\tFrom worker 4:\t"
       ]
      },
      {
       "output_type": "stream",
       "stream": "stdout",
       "text": [
        "starts 5600 to 5649\n"
       ]
      },
      {
       "output_type": "stream",
       "stream": "stdout",
       "text": [
        "\tFrom worker 2:\t"
       ]
      },
      {
       "output_type": "stream",
       "stream": "stdout",
       "text": [
        "starts 2100 to 2149\n"
       ]
      },
      {
       "output_type": "stream",
       "stream": "stdout",
       "text": [
        "\tFrom worker 2:\t"
       ]
      },
      {
       "output_type": "stream",
       "stream": "stdout",
       "text": [
        "starts 4850 to 4899\n",
        "\tFrom worker 4:\tstarts 600 to 649\n",
        "\tFrom worker 4:\tstarts 2550 to 2599\n"
       ]
      },
      {
       "output_type": "stream",
       "stream": "stdout",
       "text": [
        "\tFrom worker 3:\t"
       ]
      },
      {
       "output_type": "stream",
       "stream": "stdout",
       "text": [
        "starts 5850 to 5899\n"
       ]
      },
      {
       "output_type": "stream",
       "stream": "stdout",
       "text": [
        "\tFrom worker 4:\tstarts 750 to 799\n",
        "\tFrom worker 4:\tstarts 3950 to 3999\n"
       ]
      },
      {
       "output_type": "stream",
       "stream": "stdout",
       "text": [
        "\tFrom worker 2:\t"
       ]
      },
      {
       "output_type": "stream",
       "stream": "stdout",
       "text": [
        "starts 4650 to 4699\n"
       ]
      },
      {
       "output_type": "stream",
       "stream": "stdout",
       "text": [
        "\tFrom worker 4:\tstarts 2800 to 2849\n"
       ]
      },
      {
       "output_type": "stream",
       "stream": "stdout",
       "text": [
        "\tFrom worker 4:\t"
       ]
      },
      {
       "output_type": "stream",
       "stream": "stdout",
       "text": [
        "starts 2850 to 2899\n",
        "\tFrom worker 2:\tstarts 4500 to 4549\n"
       ]
      },
      {
       "output_type": "stream",
       "stream": "stdout",
       "text": [
        "\tFrom worker 3:\tstarts 5100 to 5149\n"
       ]
      },
      {
       "output_type": "stream",
       "stream": "stdout",
       "text": [
        "\tFrom worker 4:\t"
       ]
      },
      {
       "output_type": "stream",
       "stream": "stdout",
       "text": [
        "starts 450 to 499\n",
        "\tFrom worker 4:\tstarts 500 to 549\n",
        "\tFrom worker 4:\tstarts 6350 to 6399\n"
       ]
      },
      {
       "output_type": "stream",
       "stream": "stdout",
       "text": [
        "\tFrom worker 2:\t"
       ]
      },
      {
       "output_type": "stream",
       "stream": "stdout",
       "text": [
        "starts 6150 to 6199\n"
       ]
      },
      {
       "output_type": "stream",
       "stream": "stdout",
       "text": [
        "\tFrom worker 3:\tstarts 1750 to 1799\n"
       ]
      },
      {
       "output_type": "stream",
       "stream": "stdout",
       "text": [
        "\tFrom worker 3:\tstarts 3850 to 3899\n"
       ]
      },
      {
       "output_type": "stream",
       "stream": "stdout",
       "text": [
        "\tFrom worker 3:\t"
       ]
      },
      {
       "output_type": "stream",
       "stream": "stdout",
       "text": [
        "starts 2700 to 2749\n",
        "\tFrom worker 4:\tstarts 5500 to 5549\n"
       ]
      },
      {
       "output_type": "stream",
       "stream": "stdout",
       "text": [
        "\tFrom worker 3:\t"
       ]
      },
      {
       "output_type": "stream",
       "stream": "stdout",
       "text": [
        "starts 1150 to 1199\n"
       ]
      },
      {
       "output_type": "stream",
       "stream": "stdout",
       "text": [
        "\tFrom worker 3:\tstarts 4750 to 4799\n",
        "\tFrom worker 2:\tstarts 6000 to 6049\n"
       ]
      },
      {
       "output_type": "stream",
       "stream": "stdout",
       "text": [
        "\tFrom worker 4:\t"
       ]
      },
      {
       "output_type": "stream",
       "stream": "stdout",
       "text": [
        "starts 3500 to 3549\n"
       ]
      },
      {
       "output_type": "stream",
       "stream": "stdout",
       "text": [
        "\tFrom worker 3:\t"
       ]
      },
      {
       "output_type": "stream",
       "stream": "stdout",
       "text": [
        "starts 2200 to 2249\n"
       ]
      },
      {
       "output_type": "stream",
       "stream": "stdout",
       "text": [
        "\tFrom worker 4:\tstarts 4400 to 4449\n"
       ]
      },
      {
       "output_type": "stream",
       "stream": "stdout",
       "text": [
        "\tFrom worker 3:\tstarts 5700 to 5749\n"
       ]
      },
      {
       "output_type": "stream",
       "stream": "stdout",
       "text": [
        "\tFrom worker 2:\t"
       ]
      },
      {
       "output_type": "stream",
       "stream": "stdout",
       "text": [
        "starts 4100 to 4149\n"
       ]
      },
      {
       "output_type": "stream",
       "stream": "stdout",
       "text": [
        "\tFrom worker 4:\tstarts 1550 to 1599\n"
       ]
      },
      {
       "output_type": "stream",
       "stream": "stdout",
       "text": [
        "\tFrom worker 4:\tstarts 1650 to 1699\n"
       ]
      },
      {
       "output_type": "stream",
       "stream": "stdout",
       "text": [
        "\tFrom worker 4:\t"
       ]
      },
      {
       "output_type": "stream",
       "stream": "stdout",
       "text": [
        "starts 1500 to 1549\n",
        "\tFrom worker 3:\tstarts 5250 to 5299\n"
       ]
      },
      {
       "output_type": "stream",
       "stream": "stdout",
       "text": [
        "\tFrom worker 2:\tstarts 6300 to 6349\n",
        "\tFrom worker 4:\tstarts 550 to 599\n",
        "\tFrom worker 4:\tstarts 7000 to 7049\n"
       ]
      },
      {
       "output_type": "stream",
       "stream": "stdout",
       "text": [
        "\tFrom worker 2:\t"
       ]
      },
      {
       "output_type": "stream",
       "stream": "stdout",
       "text": [
        "starts 2950 to 2999\n"
       ]
      },
      {
       "output_type": "stream",
       "stream": "stdout",
       "text": [
        "\tFrom worker 4:\tstarts 2150 to 2199\n"
       ]
      },
      {
       "output_type": "stream",
       "stream": "stdout",
       "text": [
        "\tFrom worker 2:\tstarts 4800 to 4849\n"
       ]
      },
      {
       "output_type": "stream",
       "stream": "stdout",
       "text": [
        "\tFrom worker 4:\tstarts 6700 to 6749\n"
       ]
      },
      {
       "output_type": "stream",
       "stream": "stdout",
       "text": [
        "\tFrom worker 2:\t"
       ]
      },
      {
       "output_type": "stream",
       "stream": "stdout",
       "text": [
        "starts 5300 to 5349\n"
       ]
      },
      {
       "output_type": "stream",
       "stream": "stdout",
       "text": [
        "\tFrom worker 2:\t"
       ]
      },
      {
       "output_type": "stream",
       "stream": "stdout",
       "text": [
        "starts 3750 to 3799\n"
       ]
      },
      {
       "output_type": "stream",
       "stream": "stdout",
       "text": [
        "\tFrom worker 2:\t"
       ]
      },
      {
       "output_type": "stream",
       "stream": "stdout",
       "text": [
        "starts 6250 to 6299\n"
       ]
      },
      {
       "output_type": "stream",
       "stream": "stdout",
       "text": [
        "\tFrom worker 2:\t"
       ]
      },
      {
       "output_type": "stream",
       "stream": "stdout",
       "text": [
        "starts 6650 to 6699\n"
       ]
      },
      {
       "output_type": "stream",
       "stream": "stdout",
       "text": [
        "\tFrom worker 2:\t"
       ]
      },
      {
       "output_type": "stream",
       "stream": "stdout",
       "text": [
        "starts 6950 to 6999\n"
       ]
      },
      {
       "output_type": "stream",
       "stream": "stdout",
       "text": [
        "\tFrom worker 2:\t"
       ]
      },
      {
       "output_type": "stream",
       "stream": "stdout",
       "text": [
        "starts 5450 to 5499\n"
       ]
      },
      {
       "output_type": "stream",
       "stream": "stdout",
       "text": [
        "\tFrom worker 2:\t"
       ]
      },
      {
       "output_type": "stream",
       "stream": "stdout",
       "text": [
        "starts 6400 to 6449\n"
       ]
      },
      {
       "output_type": "stream",
       "stream": "stdout",
       "text": [
        "\tFrom worker 2:\t"
       ]
      },
      {
       "output_type": "stream",
       "stream": "stdout",
       "text": [
        "starts 3350 to 3399\n"
       ]
      },
      {
       "output_type": "stream",
       "stream": "stdout",
       "text": [
        "\tFrom worker 2:\t"
       ]
      },
      {
       "output_type": "stream",
       "stream": "stdout",
       "text": [
        "starts 3150 to 3199\n"
       ]
      },
      {
       "output_type": "stream",
       "stream": "stdout",
       "text": [
        "\tFrom worker 2:\t"
       ]
      },
      {
       "output_type": "stream",
       "stream": "stdout",
       "text": [
        "starts 1700 to 1749\n"
       ]
      },
      {
       "output_type": "stream",
       "stream": "stdout",
       "text": [
        "\tFrom worker 2:\tstarts 1600 to 1649\n"
       ]
      },
      {
       "output_type": "stream",
       "stream": "stdout",
       "text": [
        "\tFrom worker 2:\tstarts 100 to 149\n",
        "\tFrom worker 2:\tstarts 4950 to 4999\n"
       ]
      },
      {
       "output_type": "stream",
       "stream": "stdout",
       "text": [
        "\tFrom worker 2:\t"
       ]
      },
      {
       "output_type": "stream",
       "stream": "stdout",
       "text": [
        "starts 1950 to 1999\n"
       ]
      },
      {
       "output_type": "stream",
       "stream": "stdout",
       "text": [
        "elapsed time: "
       ]
      },
      {
       "output_type": "stream",
       "stream": "stdout",
       "text": [
        "31.366608729 seconds (7921153 bytes allocated)\n",
        "done\n"
       ]
      }
     ],
     "prompt_number": 6
    },
    {
     "cell_type": "code",
     "collapsed": false,
     "input": [
      "mypi"
     ],
     "language": "python",
     "metadata": {},
     "outputs": [
      {
       "metadata": {},
       "output_type": "pyout",
       "prompt_number": 63,
       "text": [
        "73-element Array{Int32,1}:\n",
        "  9\n",
        " 19\n",
        " 18\n",
        " 29\n",
        " 39\n",
        " 10\n",
        "  7\n",
        "  4\n",
        " 70\n",
        " 23\n",
        " 72\n",
        " 16\n",
        " 37\n",
        "  \u22ee\n",
        " 22\n",
        " 58\n",
        " 61\n",
        " 68\n",
        " 26\n",
        " 13\n",
        " 51\n",
        " 69\n",
        " 34\n",
        " 46\n",
        " 48\n",
        "  1"
       ]
      }
     ],
     "prompt_number": 63
    },
    {
     "cell_type": "code",
     "collapsed": false,
     "input": [
      "N=10000\n",
      "M = N/14 + 1\n",
      "set_bigfloat_precision(int(N*log2(10))+1)\n",
      "@time invpi = dudu_chud(M,0)\n",
      "f = sqrt(BigFloat(BigInt(640320)^3))\n",
      "mypi = f/(12*invpi)\n",
      "println(\"done\")"
     ],
     "language": "python",
     "metadata": {},
     "outputs": [
      {
       "output_type": "stream",
       "stream": "stdout",
       "text": [
        "starts 0 to 714"
       ]
      },
      {
       "output_type": "stream",
       "stream": "stdout",
       "text": [
        "\n"
       ]
      },
      {
       "output_type": "stream",
       "stream": "stdout",
       "text": [
        "elapsed time: 0.128602019 seconds (14493452 bytes allocated)\n",
        "done\n"
       ]
      }
     ],
     "prompt_number": 41
    },
    {
     "cell_type": "code",
     "collapsed": false,
     "input": [
      "outdoc = open(\"pi_dudu_chud.txt\",\"w\")\n",
      "write(outdoc,string(mypi))\n",
      "close(outdoc)"
     ],
     "language": "python",
     "metadata": {},
     "outputs": [],
     "prompt_number": 16
    },
    {
     "cell_type": "code",
     "collapsed": false,
     "input": [],
     "language": "python",
     "metadata": {},
     "outputs": [],
     "prompt_number": 136
    },
    {
     "cell_type": "code",
     "collapsed": false,
     "input": [],
     "language": "python",
     "metadata": {},
     "outputs": [
      {
       "metadata": {},
       "output_type": "pyout",
       "prompt_number": 139,
       "text": [
        "4-element Array{Int32,1}:\n",
        " 0\n",
        " 1\n",
        " 2\n",
        " 3"
       ]
      }
     ],
     "prompt_number": 139
    },
    {
     "cell_type": "code",
     "collapsed": false,
     "input": [],
     "language": "python",
     "metadata": {},
     "outputs": [],
     "prompt_number": 34
    },
    {
     "cell_type": "code",
     "collapsed": false,
     "input": [],
     "language": "python",
     "metadata": {},
     "outputs": [],
     "prompt_number": 35
    },
    {
     "cell_type": "code",
     "collapsed": false,
     "input": [
      "function pchud(N)\n",
      "    set_bigfloat_precision(int(N*log2(10))+1)\n",
      "    invpi = @parallel (+) for i=0:nprocs()-1\n",
      "        parallel_chud(N,i)\n",
      "    end\n",
      "    f = sqrt(BigFloat(BigInt(640320)^3))\n",
      "    p = f/(12*invpi)\n",
      "    return p\n",
      "end"
     ],
     "language": "python",
     "metadata": {},
     "outputs": [
      {
       "metadata": {},
       "output_type": "pyout",
       "prompt_number": 187,
       "text": [
        "# methods for generic function pchud\n",
        "pchud() at In[149]:3\n",
        "pchud(N) at In[187]:2"
       ]
      }
     ],
     "prompt_number": 187
    },
    {
     "cell_type": "code",
     "collapsed": false,
     "input": [],
     "language": "python",
     "metadata": {},
     "outputs": [],
     "prompt_number": 56
    },
    {
     "cell_type": "code",
     "collapsed": false,
     "input": [
      "addprocs(1)"
     ],
     "language": "python",
     "metadata": {},
     "outputs": [
      {
       "metadata": {},
       "output_type": "pyout",
       "prompt_number": 47,
       "text": [
        "1-element Array{Any,1}:\n",
        " 2"
       ]
      }
     ],
     "prompt_number": 47
    },
    {
     "cell_type": "code",
     "collapsed": false,
     "input": [
      "nheads = @parallel (+) for i=1:200000000\n",
      "  int(randbool())\n",
      "end"
     ],
     "language": "python",
     "metadata": {},
     "outputs": [
      {
       "metadata": {},
       "output_type": "pyout",
       "prompt_number": 184,
       "text": [
        "100011019"
       ]
      }
     ],
     "prompt_number": 184
    },
    {
     "cell_type": "code",
     "collapsed": false,
     "input": [
      "for i = 10:20\n",
      "    println(i)\n",
      "    end"
     ],
     "language": "python",
     "metadata": {},
     "outputs": [
      {
       "output_type": "stream",
       "stream": "stdout",
       "text": [
        "10"
       ]
      },
      {
       "output_type": "stream",
       "stream": "stdout",
       "text": [
        "\n",
        "11\n",
        "12\n",
        "13\n",
        "14\n",
        "15\n",
        "16\n",
        "17\n",
        "18\n",
        "19\n",
        "20\n"
       ]
      }
     ],
     "prompt_number": 4
    },
    {
     "cell_type": "code",
     "collapsed": false,
     "input": [
      "function chud_test(N)\n",
      "    np = nprocs()\n",
      "    set_bigfloat_precision(int(N*log2(10))+1)\n",
      "    k = BigInt(13591409)\n",
      "    invpi = BigFloat(0)\n",
      "    M = N/14 + 1\n",
      "    for i = int(M):int(M)\n",
      "        println(\"i = \"*string(i))\n",
      "        println(\"computing 6i!\")\n",
      "        @time a = factorial(BigInt(6*i))\n",
      "        println(\"computing k*i!\")\n",
      "        @time b = k + BigInt(545140134)*i\n",
      "        println(\"computing 3i!\")\n",
      "        @time c = factorial(BigInt(3*i))\n",
      "        println(\"computing i!^3\")\n",
      "        @time d = (factorial(BigInt(i)))^3\n",
      "        println(\"computing k^3i\")\n",
      "        @time e = BigInt(640320)^(3*i)\n",
      "        println(\"computing multiplication and division\")\n",
      "        @time invpi += (((-1)^i)*a*b)/(c*d*e)\n",
      "    end\n",
      "    return invpi\n",
      "    # elapsed = time() - now\n",
      "    # println(p)\n",
      "    # println(\"Elapsed: \"*string(elapsed)) \n",
      "end"
     ],
     "language": "python",
     "metadata": {},
     "outputs": [
      {
       "metadata": {},
       "output_type": "pyout",
       "prompt_number": 22,
       "text": [
        "# methods for generic function chud_test\n",
        "chud_test(N) at In[22]:2"
       ]
      }
     ],
     "prompt_number": 22
    },
    {
     "cell_type": "code",
     "collapsed": false,
     "input": [
      "@time chud_test(10000000)\n",
      "println(\"done\")"
     ],
     "language": "python",
     "metadata": {},
     "outputs": [
      {
       "output_type": "stream",
       "stream": "stdout",
       "text": [
        "i = 714287"
       ]
      },
      {
       "output_type": "stream",
       "stream": "stdout",
       "text": [
        "\n",
        "computing 6i!\n"
       ]
      },
      {
       "output_type": "stream",
       "stream": "stdout",
       "text": [
        "elapsed time: 4.60094854 seconds (270035068 bytes allocated)\n",
        "computing k*i!\n",
        "elapsed time: 6.598e-6 seconds (72 bytes allocated)\n",
        "computing 3i!\n"
       ]
      },
      {
       "output_type": "stream",
       "stream": "stdout",
       "text": [
        "elapsed time: 2.028842179 seconds (121507228 bytes allocated)\n",
        "computing i!^3\n"
       ]
      },
      {
       "output_type": "stream",
       "stream": "stdout",
       "text": [
        "elapsed time: 1.223578839 seconds (81066296 bytes allocated)\n",
        "computing k^3i\n"
       ]
      },
      {
       "output_type": "stream",
       "stream": "stdout",
       "text": [
        "elapsed time: 0.490490039 seconds (35577088 bytes allocated)\n",
        "computing multiplication and division\n"
       ]
      },
      {
       "output_type": "stream",
       "stream": "stdout",
       "text": [
        "elapsed time: 5.837405138 seconds (376107884 bytes allocated)\n",
        "elapsed time: 14.306042244 seconds (889000164 bytes allocated)\n",
        "done\n"
       ]
      }
     ],
     "prompt_number": 23
    },
    {
     "cell_type": "code",
     "collapsed": false,
     "input": [],
     "language": "python",
     "metadata": {},
     "outputs": []
    }
   ],
   "metadata": {}
  }
 ]
}